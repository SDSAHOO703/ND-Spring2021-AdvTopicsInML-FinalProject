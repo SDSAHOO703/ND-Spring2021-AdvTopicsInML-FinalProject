{
 "cells": [
  {
   "cell_type": "markdown",
   "id": "associate-profile",
   "metadata": {},
   "source": [
    "## Importing The Libraries"
   ]
  },
  {
   "cell_type": "code",
   "execution_count": 1,
   "id": "mechanical-modem",
   "metadata": {},
   "outputs": [
    {
     "name": "stdout",
     "output_type": "stream",
     "text": [
      "INFO:tensorflow:Enabling eager execution\n",
      "INFO:tensorflow:Enabling v2 tensorshape\n",
      "INFO:tensorflow:Enabling resource variables\n",
      "INFO:tensorflow:Enabling tensor equality\n",
      "INFO:tensorflow:Enabling control flow v2\n"
     ]
    }
   ],
   "source": [
    "import tensorflow as tf\n",
    "from tensorflow.keras.preprocessing.image import ImageDataGenerator\n",
    "from tensorflow.keras.applications.resnet import preprocess_input\n",
    "from tensorflow.keras import optimizers\n",
    "import numpy as np\n",
    "import pandas as pd\n",
    "import matplotlib.pyplot as plt\n",
    "import os"
   ]
  },
  {
   "cell_type": "markdown",
   "id": "unusual-advantage",
   "metadata": {},
   "source": [
    "## Specifying the Working Directories"
   ]
  },
  {
   "cell_type": "code",
   "execution_count": 2,
   "id": "directed-production",
   "metadata": {},
   "outputs": [],
   "source": [
    "# Defining the path to the dataset \n",
    "base_dir = 'E:\\Docs\\courseRelated\\AdvTopicsInML\\FinalProject'\n",
    "\n",
    "# Directories for training and validation dataset\n",
    "train_dir = os.path.join(base_dir, 'dataset\\\\train')\n",
    "val_dir = os.path.join(base_dir, 'dataset\\\\validation')\n",
    "\n",
    "# Directory with training objects\n",
    "train_boat_dir = os.path.join(train_dir, 'boat')\n",
    "train_building_dir = os.path.join(train_dir, 'building')\n",
    "train_cars_dir = os.path.join(train_dir, 'cars')\n",
    "train_drones_dir = os.path.join(train_dir, 'drones')\n",
    "train_group_dir = os.path.join(train_dir, 'group')\n",
    "train_horseride_dir = os.path.join(train_dir, 'horseride')\n",
    "train_paraglider_dir = os.path.join(train_dir, 'paraglider')\n",
    "train_person_dir = os.path.join(train_dir, 'person')\n",
    "train_riding_dir = os.path.join(train_dir, 'riding')\n",
    "train_trucks_dir = os.path.join(train_dir, 'trucks')\n",
    "train_wakeboard_dir = os.path.join(train_dir, 'wakebard')\n",
    "train_whales_dir = os.path.join(train_dir, 'whales')\n",
    "\n",
    "# Directory with validation objects\n",
    "val_boat_dir = os.path.join(val_dir, 'boat')\n",
    "val_building_dir = os.path.join(val_dir, 'building')\n",
    "val_cars_dir = os.path.join(val_dir, 'cars')\n",
    "val_drones_dir = os.path.join(val_dir, 'drones')\n",
    "val_group_dir = os.path.join(val_dir, 'group')\n",
    "val_horseride_dir = os.path.join(val_dir, 'horseride')\n",
    "val_paraglider_dir = os.path.join(val_dir, 'paraglider')\n",
    "val_person_dir = os.path.join(val_dir, 'person')\n",
    "val_riding_dir = os.path.join(val_dir, 'riding')\n",
    "val_trucks_dir = os.path.join(val_dir, 'trucks')\n",
    "val_wakeboard_dir = os.path.join(val_dir, 'wakebard')\n",
    "val_whales_dir = os.path.join(val_dir, 'whales')"
   ]
  },
  {
   "cell_type": "markdown",
   "id": "affected-understanding",
   "metadata": {},
   "source": [
    "## Setting Parameters for the Data Generators"
   ]
  },
  {
   "cell_type": "code",
   "execution_count": 3,
   "id": "parallel-copyright",
   "metadata": {},
   "outputs": [],
   "source": [
    "# Specifying the number of samples in a batch\n",
    "batch_size = 32\n",
    "\n",
    "# Defining imput image size\n",
    "IMG_HEIGHT = 640\n",
    "IMG_WIDTH  = 360"
   ]
  },
  {
   "cell_type": "markdown",
   "id": "available-pennsylvania",
   "metadata": {},
   "source": [
    "## Preprocessing Training and Validation Datasets "
   ]
  },
  {
   "cell_type": "code",
   "execution_count": 4,
   "id": "complex-charger",
   "metadata": {},
   "outputs": [
    {
     "name": "stdout",
     "output_type": "stream",
     "text": [
      "Found 65976 images belonging to 12 classes.\n",
      "Found 27544 images belonging to 12 classes.\n"
     ]
    }
   ],
   "source": [
    "# Augmenting training dataset\n",
    "train_datagen = ImageDataGenerator(preprocessing_function=preprocess_input,\n",
    "                                   rotation_range=45,\n",
    "                                   width_shift_range=0.2,\n",
    "                                   height_shift_range=0.2,\n",
    "                                   shear_range=0.2,\n",
    "                                   zoom_range=0.2,\n",
    "                                   horizontal_flip=True,\n",
    "                                   fill_mode='nearest')\n",
    "train_data_gen = train_datagen.flow_from_directory(batch_size=batch_size,\n",
    "                                                   directory=train_dir,\n",
    "                                                   target_size=(IMG_HEIGHT, IMG_WIDTH),\n",
    "                                                   class_mode='sparse')\n",
    "\n",
    "# Preprocessing validation dataset\n",
    "valid_datagen = ImageDataGenerator(preprocessing_function=preprocess_input)\n",
    "val_data_gen = valid_datagen.flow_from_directory(batch_size=batch_size,\n",
    "                                                 directory=val_dir,\n",
    "                                                 target_size=(IMG_HEIGHT, IMG_WIDTH),\n",
    "                                                 class_mode='sparse')"
   ]
  },
  {
   "cell_type": "markdown",
   "id": "certain-recorder",
   "metadata": {},
   "source": [
    "## Defining a Pre-Trained ResNet50 Model"
   ]
  },
  {
   "cell_type": "code",
   "execution_count": 5,
   "id": "delayed-tradition",
   "metadata": {},
   "outputs": [
    {
     "name": "stdout",
     "output_type": "stream",
     "text": [
      "Model: \"sequential\"\n",
      "_________________________________________________________________\n",
      "Layer (type)                 Output Shape              Param #   \n",
      "=================================================================\n",
      "resnet50 (Functional)        (None, 20, 12, 2048)      23587712  \n",
      "_________________________________________________________________\n",
      "flatten (Flatten)            (None, 491520)            0         \n",
      "_________________________________________________________________\n",
      "dense (Dense)                (None, 256)               125829376 \n",
      "_________________________________________________________________\n",
      "dense_1 (Dense)              (None, 1)                 257       \n",
      "=================================================================\n",
      "Total params: 149,417,345\n",
      "Trainable params: 125,829,633\n",
      "Non-trainable params: 23,587,712\n",
      "_________________________________________________________________\n"
     ]
    }
   ],
   "source": [
    "# Loading pre-trained model from keras\n",
    "from tensorflow.keras.applications import ResNet50\n",
    "\n",
    "# Forming the convolutional base\n",
    "conv_base = ResNet50(weights='imagenet',\n",
    "                     include_top=False,\n",
    "                     input_shape=(IMG_HEIGHT, IMG_WIDTH, 3))\n",
    "\n",
    "# Freezing the convolutional base\n",
    "conv_base.trainable = False\n",
    "\n",
    "# Stacking the dense layers\n",
    "model = tf.keras.models.Sequential()\n",
    "model.add(conv_base)   # Adding the conv_base as one of the layers first\n",
    "model.add(tf.keras.layers.Flatten()) \n",
    "model.add(tf.keras.layers.Dense(256, activation='relu'))\n",
    "model.add(tf.keras.layers.Dense(1,activation=\"sigmoid\"))\n",
    "model.summary()"
   ]
  },
  {
   "cell_type": "markdown",
   "id": "fifteen-spouse",
   "metadata": {},
   "source": [
    "## Compiling The Model"
   ]
  },
  {
   "cell_type": "code",
   "execution_count": 6,
   "id": "republican-heading",
   "metadata": {},
   "outputs": [
    {
     "name": "stdout",
     "output_type": "stream",
     "text": [
      "Epoch 1/20\n",
      "2062/2062 [==============================] - 2533s 1s/step - loss: nan - accuracy: 0.0547 - val_loss: nan - val_accuracy: 0.0568\n",
      "Epoch 2/20\n",
      "2062/2062 [==============================] - 2199s 1s/step - loss: nan - accuracy: 0.0554 - val_loss: nan - val_accuracy: 0.0568\n",
      "Epoch 3/20\n",
      "2062/2062 [==============================] - 2196s 1s/step - loss: nan - accuracy: 0.0559 - val_loss: nan - val_accuracy: 0.0568\n",
      "Epoch 4/20\n",
      "2062/2062 [==============================] - 2205s 1s/step - loss: nan - accuracy: 0.0560 - val_loss: nan - val_accuracy: 0.0568\n",
      "Epoch 5/20\n",
      "2062/2062 [==============================] - 2197s 1s/step - loss: nan - accuracy: 0.0546 - val_loss: nan - val_accuracy: 0.0568\n",
      "Epoch 6/20\n",
      "2062/2062 [==============================] - 2207s 1s/step - loss: nan - accuracy: 0.0552 - val_loss: nan - val_accuracy: 0.0568\n",
      "Epoch 7/20\n",
      "2062/2062 [==============================] - 2196s 1s/step - loss: nan - accuracy: 0.0563 - val_loss: nan - val_accuracy: 0.0568\n",
      "Epoch 8/20\n",
      "2062/2062 [==============================] - 2373s 1s/step - loss: nan - accuracy: 0.0559 - val_loss: nan - val_accuracy: 0.0568\n",
      "Epoch 9/20\n",
      "2062/2062 [==============================] - 2354s 1s/step - loss: nan - accuracy: 0.0549 - val_loss: nan - val_accuracy: 0.0568\n",
      "Epoch 10/20\n",
      "2062/2062 [==============================] - 2203s 1s/step - loss: nan - accuracy: 0.0533 - val_loss: nan - val_accuracy: 0.0568\n",
      "Epoch 11/20\n",
      "2062/2062 [==============================] - 2191s 1s/step - loss: nan - accuracy: 0.0544 - val_loss: nan - val_accuracy: 0.0568\n",
      "Epoch 12/20\n",
      "2062/2062 [==============================] - 2204s 1s/step - loss: nan - accuracy: 0.0550 - val_loss: nan - val_accuracy: 0.0568\n",
      "Epoch 13/20\n",
      "2062/2062 [==============================] - 2201s 1s/step - loss: nan - accuracy: 0.0551 - val_loss: nan - val_accuracy: 0.0568\n",
      "Epoch 14/20\n",
      "2062/2062 [==============================] - 2209s 1s/step - loss: nan - accuracy: 0.0542 - val_loss: nan - val_accuracy: 0.0568\n",
      "Epoch 15/20\n",
      "2062/2062 [==============================] - 2194s 1s/step - loss: nan - accuracy: 0.0549 - val_loss: nan - val_accuracy: 0.0568\n",
      "Epoch 16/20\n",
      "2062/2062 [==============================] - 2200s 1s/step - loss: nan - accuracy: 0.0556 - val_loss: nan - val_accuracy: 0.0568\n",
      "Epoch 17/20\n",
      "2062/2062 [==============================] - 2202s 1s/step - loss: nan - accuracy: 0.0559 - val_loss: nan - val_accuracy: 0.0568\n",
      "Epoch 18/20\n",
      "2062/2062 [==============================] - 2209s 1s/step - loss: nan - accuracy: 0.0548 - val_loss: nan - val_accuracy: 0.0568\n",
      "Epoch 19/20\n",
      "2062/2062 [==============================] - 2193s 1s/step - loss: nan - accuracy: 0.0548 - val_loss: nan - val_accuracy: 0.0568\n",
      "Epoch 20/20\n",
      "2062/2062 [==============================] - 2200s 1s/step - loss: nan - accuracy: 0.0546 - val_loss: nan - val_accuracy: 0.0568\n",
      "Wall time: 12h 24min 26s\n"
     ]
    }
   ],
   "source": [
    "%%time\n",
    "\n",
    "model.compile(loss='sparse_categorical_crossentropy', \n",
    "              optimizer=optimizers.RMSprop(learning_rate=2e-5), \n",
    "              metrics=['accuracy'])\n",
    "history_resnet50_tfkerastl = model.fit(train_data_gen, \n",
    "                                       epochs=20, \n",
    "                                       validation_data=val_data_gen)"
   ]
  },
  {
   "cell_type": "markdown",
   "id": "hydraulic-stanford",
   "metadata": {},
   "source": [
    "## Saving Loss and Accuracy Scores"
   ]
  },
  {
   "cell_type": "code",
   "execution_count": 7,
   "id": "prescribed-healing",
   "metadata": {},
   "outputs": [],
   "source": [
    "history_resnet50_tfkerastl_df = pd.DataFrame(data=history_resnet50_tfkerastl.history)\n",
    "history_resnet50_tfkerastl_df.to_csv('history_ResNet50_TFKerasTL_Python.csv', index=False)\n",
    "history_resnet50_tfkerastl_df.to_csv('history_ResNet50_TFKerasTL_MATLAB.csv', header=False, index=False)"
   ]
  }
 ],
 "metadata": {
  "kernelspec": {
   "display_name": "Python 3",
   "language": "python",
   "name": "python3"
  },
  "language_info": {
   "codemirror_mode": {
    "name": "ipython",
    "version": 3
   },
   "file_extension": ".py",
   "mimetype": "text/x-python",
   "name": "python",
   "nbconvert_exporter": "python",
   "pygments_lexer": "ipython3",
   "version": "3.8.5"
  }
 },
 "nbformat": 4,
 "nbformat_minor": 5
}
